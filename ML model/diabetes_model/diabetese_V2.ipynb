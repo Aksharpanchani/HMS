{
 "cells": [
  {
   "cell_type": "code",
   "execution_count": 4,
   "metadata": {
    "id": "DVr1pr3rH9xx",
    "ExecuteTime": {
     "end_time": "2023-09-18T10:30:11.628949Z",
     "start_time": "2023-09-18T10:30:11.534204Z"
    }
   },
   "outputs": [],
   "source": [
    "import sys\n",
    "import numpy as np\n",
    "import pandas as pd\n",
    "from sklearn.tree import DecisionTreeClassifier\n",
    "import sklearn.tree as tree\n",
    "import seaborn as sns\n",
    "from sklearn import metrics\n",
    "import matplotlib.pyplot as plt\n",
    "from sklearn.metrics import classification_report, confusion_matrix"
   ]
  },
  {
   "cell_type": "code",
   "execution_count": 5,
   "metadata": {
    "colab": {
     "base_uri": "https://localhost:8080/"
    },
    "id": "bg7kbGCYH9xy",
    "outputId": "e3ef4ef8-c0d4-483e-8fa0-6f4fefc1742a",
    "ExecuteTime": {
     "end_time": "2023-09-18T10:30:11.711174200Z",
     "start_time": "2023-09-18T10:30:11.549828500Z"
    }
   },
   "outputs": [
    {
     "data": {
      "text/plain": "(70692, 22)"
     },
     "execution_count": 5,
     "metadata": {},
     "output_type": "execute_result"
    }
   ],
   "source": [
    "df = pd.read_csv(\"diabetes_binary_5050split_health_indicators_BRFSS2015.csv\", delimiter=\",\")\n",
    "df.shape"
   ]
  },
  {
   "cell_type": "code",
   "execution_count": 6,
   "metadata": {
    "id": "MlDOkAm4H9xz",
    "colab": {
     "base_uri": "https://localhost:8080/",
     "height": 349
    },
    "outputId": "93412218-adf2-4c0b-ad4c-d33e20407e31",
    "ExecuteTime": {
     "end_time": "2023-09-18T10:30:11.856040300Z",
     "start_time": "2023-09-18T10:30:11.711174200Z"
    }
   },
   "outputs": [
    {
     "data": {
      "text/plain": "       Diabetes_binary        HighBP      HighChol     CholCheck  \\\ncount     70692.000000  70692.000000  70692.000000  70692.000000   \nmean          0.500000      0.563458      0.525703      0.975259   \nstd           0.500004      0.495960      0.499342      0.155336   \nmin           0.000000      0.000000      0.000000      0.000000   \n25%           0.000000      0.000000      0.000000      1.000000   \n50%           0.500000      1.000000      1.000000      1.000000   \n75%           1.000000      1.000000      1.000000      1.000000   \nmax           1.000000      1.000000      1.000000      1.000000   \n\n                BMI        Smoker        Stroke  HeartDiseaseorAttack  \\\ncount  70692.000000  70692.000000  70692.000000          70692.000000   \nmean      29.856985      0.475273      0.062171              0.147810   \nstd        7.113954      0.499392      0.241468              0.354914   \nmin       12.000000      0.000000      0.000000              0.000000   \n25%       25.000000      0.000000      0.000000              0.000000   \n50%       29.000000      0.000000      0.000000              0.000000   \n75%       33.000000      1.000000      0.000000              0.000000   \nmax       98.000000      1.000000      1.000000              1.000000   \n\n       PhysActivity        Fruits  ...  AnyHealthcare   NoDocbcCost  \\\ncount  70692.000000  70692.000000  ...   70692.000000  70692.000000   \nmean       0.703036      0.611795  ...       0.954960      0.093914   \nstd        0.456924      0.487345  ...       0.207394      0.291712   \nmin        0.000000      0.000000  ...       0.000000      0.000000   \n25%        0.000000      0.000000  ...       1.000000      0.000000   \n50%        1.000000      1.000000  ...       1.000000      0.000000   \n75%        1.000000      1.000000  ...       1.000000      0.000000   \nmax        1.000000      1.000000  ...       1.000000      1.000000   \n\n            GenHlth      MentHlth      PhysHlth      DiffWalk           Sex  \\\ncount  70692.000000  70692.000000  70692.000000  70692.000000  70692.000000   \nmean       2.837082      3.752037      5.810417      0.252730      0.456997   \nstd        1.113565      8.155627     10.062261      0.434581      0.498151   \nmin        1.000000      0.000000      0.000000      0.000000      0.000000   \n25%        2.000000      0.000000      0.000000      0.000000      0.000000   \n50%        3.000000      0.000000      0.000000      0.000000      0.000000   \n75%        4.000000      2.000000      6.000000      1.000000      1.000000   \nmax        5.000000     30.000000     30.000000      1.000000      1.000000   \n\n                Age     Education        Income  \ncount  70692.000000  70692.000000  70692.000000  \nmean       8.584055      4.920953      5.698311  \nstd        2.852153      1.029081      2.175196  \nmin        1.000000      1.000000      1.000000  \n25%        7.000000      4.000000      4.000000  \n50%        9.000000      5.000000      6.000000  \n75%       11.000000      6.000000      8.000000  \nmax       13.000000      6.000000      8.000000  \n\n[8 rows x 22 columns]",
      "text/html": "<div>\n<style scoped>\n    .dataframe tbody tr th:only-of-type {\n        vertical-align: middle;\n    }\n\n    .dataframe tbody tr th {\n        vertical-align: top;\n    }\n\n    .dataframe thead th {\n        text-align: right;\n    }\n</style>\n<table border=\"1\" class=\"dataframe\">\n  <thead>\n    <tr style=\"text-align: right;\">\n      <th></th>\n      <th>Diabetes_binary</th>\n      <th>HighBP</th>\n      <th>HighChol</th>\n      <th>CholCheck</th>\n      <th>BMI</th>\n      <th>Smoker</th>\n      <th>Stroke</th>\n      <th>HeartDiseaseorAttack</th>\n      <th>PhysActivity</th>\n      <th>Fruits</th>\n      <th>...</th>\n      <th>AnyHealthcare</th>\n      <th>NoDocbcCost</th>\n      <th>GenHlth</th>\n      <th>MentHlth</th>\n      <th>PhysHlth</th>\n      <th>DiffWalk</th>\n      <th>Sex</th>\n      <th>Age</th>\n      <th>Education</th>\n      <th>Income</th>\n    </tr>\n  </thead>\n  <tbody>\n    <tr>\n      <th>count</th>\n      <td>70692.000000</td>\n      <td>70692.000000</td>\n      <td>70692.000000</td>\n      <td>70692.000000</td>\n      <td>70692.000000</td>\n      <td>70692.000000</td>\n      <td>70692.000000</td>\n      <td>70692.000000</td>\n      <td>70692.000000</td>\n      <td>70692.000000</td>\n      <td>...</td>\n      <td>70692.000000</td>\n      <td>70692.000000</td>\n      <td>70692.000000</td>\n      <td>70692.000000</td>\n      <td>70692.000000</td>\n      <td>70692.000000</td>\n      <td>70692.000000</td>\n      <td>70692.000000</td>\n      <td>70692.000000</td>\n      <td>70692.000000</td>\n    </tr>\n    <tr>\n      <th>mean</th>\n      <td>0.500000</td>\n      <td>0.563458</td>\n      <td>0.525703</td>\n      <td>0.975259</td>\n      <td>29.856985</td>\n      <td>0.475273</td>\n      <td>0.062171</td>\n      <td>0.147810</td>\n      <td>0.703036</td>\n      <td>0.611795</td>\n      <td>...</td>\n      <td>0.954960</td>\n      <td>0.093914</td>\n      <td>2.837082</td>\n      <td>3.752037</td>\n      <td>5.810417</td>\n      <td>0.252730</td>\n      <td>0.456997</td>\n      <td>8.584055</td>\n      <td>4.920953</td>\n      <td>5.698311</td>\n    </tr>\n    <tr>\n      <th>std</th>\n      <td>0.500004</td>\n      <td>0.495960</td>\n      <td>0.499342</td>\n      <td>0.155336</td>\n      <td>7.113954</td>\n      <td>0.499392</td>\n      <td>0.241468</td>\n      <td>0.354914</td>\n      <td>0.456924</td>\n      <td>0.487345</td>\n      <td>...</td>\n      <td>0.207394</td>\n      <td>0.291712</td>\n      <td>1.113565</td>\n      <td>8.155627</td>\n      <td>10.062261</td>\n      <td>0.434581</td>\n      <td>0.498151</td>\n      <td>2.852153</td>\n      <td>1.029081</td>\n      <td>2.175196</td>\n    </tr>\n    <tr>\n      <th>min</th>\n      <td>0.000000</td>\n      <td>0.000000</td>\n      <td>0.000000</td>\n      <td>0.000000</td>\n      <td>12.000000</td>\n      <td>0.000000</td>\n      <td>0.000000</td>\n      <td>0.000000</td>\n      <td>0.000000</td>\n      <td>0.000000</td>\n      <td>...</td>\n      <td>0.000000</td>\n      <td>0.000000</td>\n      <td>1.000000</td>\n      <td>0.000000</td>\n      <td>0.000000</td>\n      <td>0.000000</td>\n      <td>0.000000</td>\n      <td>1.000000</td>\n      <td>1.000000</td>\n      <td>1.000000</td>\n    </tr>\n    <tr>\n      <th>25%</th>\n      <td>0.000000</td>\n      <td>0.000000</td>\n      <td>0.000000</td>\n      <td>1.000000</td>\n      <td>25.000000</td>\n      <td>0.000000</td>\n      <td>0.000000</td>\n      <td>0.000000</td>\n      <td>0.000000</td>\n      <td>0.000000</td>\n      <td>...</td>\n      <td>1.000000</td>\n      <td>0.000000</td>\n      <td>2.000000</td>\n      <td>0.000000</td>\n      <td>0.000000</td>\n      <td>0.000000</td>\n      <td>0.000000</td>\n      <td>7.000000</td>\n      <td>4.000000</td>\n      <td>4.000000</td>\n    </tr>\n    <tr>\n      <th>50%</th>\n      <td>0.500000</td>\n      <td>1.000000</td>\n      <td>1.000000</td>\n      <td>1.000000</td>\n      <td>29.000000</td>\n      <td>0.000000</td>\n      <td>0.000000</td>\n      <td>0.000000</td>\n      <td>1.000000</td>\n      <td>1.000000</td>\n      <td>...</td>\n      <td>1.000000</td>\n      <td>0.000000</td>\n      <td>3.000000</td>\n      <td>0.000000</td>\n      <td>0.000000</td>\n      <td>0.000000</td>\n      <td>0.000000</td>\n      <td>9.000000</td>\n      <td>5.000000</td>\n      <td>6.000000</td>\n    </tr>\n    <tr>\n      <th>75%</th>\n      <td>1.000000</td>\n      <td>1.000000</td>\n      <td>1.000000</td>\n      <td>1.000000</td>\n      <td>33.000000</td>\n      <td>1.000000</td>\n      <td>0.000000</td>\n      <td>0.000000</td>\n      <td>1.000000</td>\n      <td>1.000000</td>\n      <td>...</td>\n      <td>1.000000</td>\n      <td>0.000000</td>\n      <td>4.000000</td>\n      <td>2.000000</td>\n      <td>6.000000</td>\n      <td>1.000000</td>\n      <td>1.000000</td>\n      <td>11.000000</td>\n      <td>6.000000</td>\n      <td>8.000000</td>\n    </tr>\n    <tr>\n      <th>max</th>\n      <td>1.000000</td>\n      <td>1.000000</td>\n      <td>1.000000</td>\n      <td>1.000000</td>\n      <td>98.000000</td>\n      <td>1.000000</td>\n      <td>1.000000</td>\n      <td>1.000000</td>\n      <td>1.000000</td>\n      <td>1.000000</td>\n      <td>...</td>\n      <td>1.000000</td>\n      <td>1.000000</td>\n      <td>5.000000</td>\n      <td>30.000000</td>\n      <td>30.000000</td>\n      <td>1.000000</td>\n      <td>1.000000</td>\n      <td>13.000000</td>\n      <td>6.000000</td>\n      <td>8.000000</td>\n    </tr>\n  </tbody>\n</table>\n<p>8 rows × 22 columns</p>\n</div>"
     },
     "execution_count": 6,
     "metadata": {},
     "output_type": "execute_result"
    }
   ],
   "source": [
    "df.describe()"
   ]
  },
  {
   "cell_type": "code",
   "source": [
    "df[\"Income\"]"
   ],
   "metadata": {
    "colab": {
     "base_uri": "https://localhost:8080/"
    },
    "id": "pJBEFofEIjwr",
    "outputId": "5611946d-e43e-4b6d-be8c-477fb1f0fd81",
    "ExecuteTime": {
     "end_time": "2023-09-18T10:30:11.897640100Z",
     "start_time": "2023-09-18T10:30:11.840509300Z"
    }
   },
   "execution_count": 7,
   "outputs": [
    {
     "data": {
      "text/plain": "0        8.0\n1        8.0\n2        8.0\n3        8.0\n4        8.0\n        ... \n70687    1.0\n70688    6.0\n70689    4.0\n70690    4.0\n70691    2.0\nName: Income, Length: 70692, dtype: float64"
     },
     "execution_count": 7,
     "metadata": {},
     "output_type": "execute_result"
    }
   ]
  },
  {
   "cell_type": "code",
   "source": [
    "correlation_matrix = df.corr()\n",
    "\n",
    "# Create a heatmap\n",
    "plt.figure(figsize=(10, 8))\n",
    "sns.heatmap(correlation_matrix, annot=False, cmap='coolwarm', vmin=-1, vmax=1)\n",
    "plt.title(\"Correlation Heatmap\")\n",
    "plt.show()"
   ],
   "metadata": {
    "colab": {
     "base_uri": "https://localhost:8080/",
     "height": 714
    },
    "id": "j7HDGwmdBaY7",
    "outputId": "833fa992-182a-4188-efa3-47de4ad3dc76",
    "ExecuteTime": {
     "end_time": "2023-09-18T10:30:12.816608500Z",
     "start_time": "2023-09-18T10:30:11.856040300Z"
    }
   },
   "execution_count": 8,
   "outputs": [
    {
     "data": {
      "text/plain": "<Figure size 720x576 with 2 Axes>",
      "image/png": "[encoded data removed]"
     },
     "metadata": {
      "needs_background": "light"
     },
     "output_type": "display_data"
    }
   ]
  },
  {
   "cell_type": "code",
   "execution_count": 9,
   "metadata": {
    "colab": {
     "base_uri": "https://localhost:8080/"
    },
    "id": "EnL7LwFFH9x0",
    "outputId": "8b67a73a-61c5-42b5-f3d6-66a4f386efb7",
    "ExecuteTime": {
     "end_time": "2023-09-18T10:30:12.880704800Z",
     "start_time": "2023-09-18T10:30:12.706274800Z"
    }
   },
   "outputs": [
    {
     "name": "stdout",
     "output_type": "stream",
     "text": [
      "Diabetes_binary         1.000000\n",
      "GenHlth                 0.407612\n",
      "HighBP                  0.381516\n",
      "BMI                     0.293373\n",
      "HighChol                0.289213\n",
      "Age                     0.278738\n",
      "DiffWalk                0.272646\n",
      "PhysHlth                0.213081\n",
      "HeartDiseaseorAttack    0.211523\n",
      "Stroke                  0.125427\n",
      "CholCheck               0.115382\n",
      "MentHlth                0.087029\n",
      "Smoker                  0.085999\n",
      "Sex                     0.044413\n",
      "NoDocbcCost             0.040977\n",
      "AnyHealthcare           0.023191\n",
      "Fruits                 -0.054077\n",
      "Veggies                -0.079293\n",
      "HvyAlcoholConsump      -0.094853\n",
      "PhysActivity           -0.158666\n",
      "Education              -0.170481\n",
      "Income                 -0.224449\n",
      "Name: Diabetes_binary, dtype: float64\n"
     ]
    }
   ],
   "source": [
    "correlations = df.corr()\n",
    "print(correlations['Diabetes_binary'].sort_values(ascending=False))"
   ]
  },
  {
   "cell_type": "code",
   "execution_count": 10,
   "metadata": {
    "id": "zEo94WosH9xz",
    "colab": {
     "base_uri": "https://localhost:8080/"
    },
    "outputId": "db7065ca-0459-403f-b71f-bd8c6a369180",
    "ExecuteTime": {
     "end_time": "2023-09-18T10:30:12.880704800Z",
     "start_time": "2023-09-18T10:30:12.784848400Z"
    }
   },
   "outputs": [
    {
     "data": {
      "text/plain": "array([[ 0.,  1.,  0., 37.,  1.,  4.,  6.],\n       [ 0.,  1.,  1., 29.,  6.,  2., 10.],\n       [ 1.,  1.,  1., 25.,  4.,  5., 13.],\n       [ 1.,  1.,  0., 18.,  4.,  4., 11.],\n       [ 1.,  1.,  1., 25.,  2.,  2.,  9.]])"
     },
     "execution_count": 10,
     "metadata": {},
     "output_type": "execute_result"
    }
   ],
   "source": [
    "x= df[['HighBP','HighChol','HeartDiseaseorAttack','BMI','Income','GenHlth','Age']].values\n",
    "x[-5:]"
   ]
  },
  {
   "cell_type": "code",
   "execution_count": 11,
   "metadata": {
    "colab": {
     "base_uri": "https://localhost:8080/"
    },
    "id": "pPAqZgpjH9x0",
    "outputId": "a8335259-76be-4e0d-e307-614a08e41abf",
    "ExecuteTime": {
     "end_time": "2023-09-18T10:30:12.880704800Z",
     "start_time": "2023-09-18T10:30:12.801094700Z"
    }
   },
   "outputs": [
    {
     "data": {
      "text/plain": "70687    1.0\n70688    1.0\n70689    1.0\n70690    1.0\n70691    1.0\nName: Diabetes_binary, dtype: float64"
     },
     "execution_count": 11,
     "metadata": {},
     "output_type": "execute_result"
    }
   ],
   "source": [
    "y = df['Diabetes_binary']\n",
    "y[-5:]"
   ]
  },
  {
   "cell_type": "code",
   "execution_count": 12,
   "metadata": {
    "id": "mnIorn_vH9x0",
    "ExecuteTime": {
     "end_time": "2023-09-18T10:30:13.088985800Z",
     "start_time": "2023-09-18T10:30:12.816608500Z"
    }
   },
   "outputs": [],
   "source": [
    "from sklearn.model_selection import train_test_split"
   ]
  },
  {
   "cell_type": "code",
   "execution_count": 13,
   "metadata": {
    "id": "BKSM8LN-H9x0",
    "outputId": "5c5d2f18-04d8-4d50-c0a2-dbe8adae98a6",
    "colab": {
     "base_uri": "https://localhost:8080/"
    },
    "ExecuteTime": {
     "end_time": "2023-09-18T10:30:13.151498600Z",
     "start_time": "2023-09-18T10:30:12.832259400Z"
    }
   },
   "outputs": [
    {
     "data": {
      "text/plain": "DecisionTreeClassifier(max_depth=8)",
      "text/html": "<style>#sk-container-id-1 {color: black;background-color: white;}#sk-container-id-1 pre{padding: 0;}#sk-container-id-1 div.sk-toggleable {background-color: white;}#sk-container-id-1 label.sk-toggleable__label {cursor: pointer;display: block;width: 100%;margin-bottom: 0;padding: 0.3em;box-sizing: border-box;text-align: center;}#sk-container-id-1 label.sk-toggleable__label-arrow:before {content: \"▸\";float: left;margin-right: 0.25em;color: #696969;}#sk-container-id-1 label.sk-toggleable__label-arrow:hover:before {color: black;}#sk-container-id-1 div.sk-estimator:hover label.sk-toggleable__label-arrow:before {color: black;}#sk-container-id-1 div.sk-toggleable__content {max-height: 0;max-width: 0;overflow: hidden;text-align: left;background-color: #f0f8ff;}#sk-container-id-1 div.sk-toggleable__content pre {margin: 0.2em;color: black;border-radius: 0.25em;background-color: #f0f8ff;}#sk-container-id-1 input.sk-toggleable__control:checked~div.sk-toggleable__content {max-height: 200px;max-width: 100%;overflow: auto;}#sk-container-id-1 input.sk-toggleable__control:checked~label.sk-toggleable__label-arrow:before {content: \"▾\";}#sk-container-id-1 div.sk-estimator input.sk-toggleable__control:checked~label.sk-toggleable__label {background-color: #d4ebff;}#sk-container-id-1 div.sk-label input.sk-toggleable__control:checked~label.sk-toggleable__label {background-color: #d4ebff;}#sk-container-id-1 input.sk-hidden--visually {border: 0;clip: rect(1px 1px 1px 1px);clip: rect(1px, 1px, 1px, 1px);height: 1px;margin: -1px;overflow: hidden;padding: 0;position: absolute;width: 1px;}#sk-container-id-1 div.sk-estimator {font-family: monospace;background-color: #f0f8ff;border: 1px dotted black;border-radius: 0.25em;box-sizing: border-box;margin-bottom: 0.5em;}#sk-container-id-1 div.sk-estimator:hover {background-color: #d4ebff;}#sk-container-id-1 div.sk-parallel-item::after {content: \"\";width: 100%;border-bottom: 1px solid gray;flex-grow: 1;}#sk-container-id-1 div.sk-label:hover label.sk-toggleable__label {background-color: #d4ebff;}#sk-container-id-1 div.sk-serial::before {content: \"\";position: absolute;border-left: 1px solid gray;box-sizing: border-box;top: 0;bottom: 0;left: 50%;z-index: 0;}#sk-container-id-1 div.sk-serial {display: flex;flex-direction: column;align-items: center;background-color: white;padding-right: 0.2em;padding-left: 0.2em;position: relative;}#sk-container-id-1 div.sk-item {position: relative;z-index: 1;}#sk-container-id-1 div.sk-parallel {display: flex;align-items: stretch;justify-content: center;background-color: white;position: relative;}#sk-container-id-1 div.sk-item::before, #sk-container-id-1 div.sk-parallel-item::before {content: \"\";position: absolute;border-left: 1px solid gray;box-sizing: border-box;top: 0;bottom: 0;left: 50%;z-index: -1;}#sk-container-id-1 div.sk-parallel-item {display: flex;flex-direction: column;z-index: 1;position: relative;background-color: white;}#sk-container-id-1 div.sk-parallel-item:first-child::after {align-self: flex-end;width: 50%;}#sk-container-id-1 div.sk-parallel-item:last-child::after {align-self: flex-start;width: 50%;}#sk-container-id-1 div.sk-parallel-item:only-child::after {width: 0;}#sk-container-id-1 div.sk-dashed-wrapped {border: 1px dashed gray;margin: 0 0.4em 0.5em 0.4em;box-sizing: border-box;padding-bottom: 0.4em;background-color: white;}#sk-container-id-1 div.sk-label label {font-family: monospace;font-weight: bold;display: inline-block;line-height: 1.2em;}#sk-container-id-1 div.sk-label-container {text-align: center;}#sk-container-id-1 div.sk-container {/* jupyter's `normalize.less` sets `[hidden] { display: none; }` but bootstrap.min.css set `[hidden] { display: none !important; }` so we also need the `!important` here to be able to override the default hidden behavior on the sphinx rendered scikit-learn.org. See: https://github.com/scikit-learn/scikit-learn/issues/21755 */display: inline-block !important;position: relative;}#sk-container-id-1 div.sk-text-repr-fallback {display: none;}</style><div id=\"sk-container-id-1\" class=\"sk-top-container\"><div class=\"sk-text-repr-fallback\"><pre>DecisionTreeClassifier(max_depth=8)</pre><b>In a Jupyter environment, please rerun this cell to show the HTML representation or trust the notebook. <br />On GitHub, the HTML representation is unable to render, please try loading this page with nbviewer.org.</b></div><div class=\"sk-container\" hidden><div class=\"sk-item\"><div class=\"sk-estimator sk-toggleable\"><input class=\"sk-toggleable__control sk-hidden--visually\" id=\"sk-estimator-id-1\" type=\"checkbox\" checked><label for=\"sk-estimator-id-1\" class=\"sk-toggleable__label sk-toggleable__label-arrow\">DecisionTreeClassifier</label><div class=\"sk-toggleable__content\"><pre>DecisionTreeClassifier(max_depth=8)</pre></div></div></div></div></div>"
     },
     "execution_count": 13,
     "metadata": {},
     "output_type": "execute_result"
    }
   ],
   "source": [
    "x_train, x_test,y_train,y_test= train_test_split(x,y,test_size=0.15,random_state=11)\n",
    "diabtree= DecisionTreeClassifier(max_depth=8)\n",
    "diabtree.fit(x_train,y_train)"
   ]
  },
  {
   "cell_type": "code",
   "source": [
    "best_accuracy = 0\n",
    "best_model = None\n",
    "\n",
    "# Do 5 randomized splits\n",
    "for i in range(5):\n",
    "    x_train, x_test, y_train, y_test = train_test_split(x, y, test_size=0.25)\n",
    "\n",
    "    diabtree = DecisionTreeClassifier(max_depth=8)\n",
    "    diabtree.fit(x_train, y_train)\n",
    "\n",
    "    pre_x = diabtree.predict(x_test)\n",
    "    accuracy = metrics.accuracy_score(y_test, pre_x)\n",
    "\n",
    "    print(f\"Split {i + 1} Accuracy:\", accuracy)\n",
    "\n",
    "    # Keep the best model\n",
    "    if accuracy > best_accuracy:\n",
    "        best_accuracy = accuracy\n",
    "        best_model = diabtree\n",
    "\n",
    "print(\"Best Accuracy:\", best_accuracy)"
   ],
   "metadata": {
    "colab": {
     "base_uri": "https://localhost:8080/"
    },
    "id": "ANNoUaL-ET9B",
    "outputId": "7a818171-83fc-4b2d-a40c-6027c07805f9",
    "ExecuteTime": {
     "end_time": "2023-09-18T10:30:13.341141200Z",
     "start_time": "2023-09-18T10:30:12.926508900Z"
    }
   },
   "execution_count": 14,
   "outputs": [
    {
     "name": "stdout",
     "output_type": "stream",
     "text": [
      "Split 1 Accuracy: 0.7379618627284559\n",
      "Split 2 Accuracy: 0.7387540315735869\n",
      "Split 3 Accuracy: 0.7406778701974763\n",
      "Split 4 Accuracy: 0.7422056243988004\n",
      "Split 5 Accuracy: 0.7371131103943869\n",
      "Best Accuracy: 0.7422056243988004\n"
     ]
    }
   ]
  },
  {
   "cell_type": "code",
   "execution_count": 15,
   "metadata": {
    "id": "W_fG-8cXH9x1",
    "outputId": "59e55ec6-b230-4f7f-eead-df3cabbc82e6",
    "colab": {
     "base_uri": "https://localhost:8080/"
    },
    "ExecuteTime": {
     "end_time": "2023-09-18T10:30:13.388428400Z",
     "start_time": "2023-09-18T10:30:13.285810100Z"
    }
   },
   "outputs": [
    {
     "name": "stdout",
     "output_type": "stream",
     "text": [
      "              precision    recall  f1-score   support\n",
      "\n",
      "         0.0       0.77      0.68      0.72      8802\n",
      "         1.0       0.71      0.80      0.75      8871\n",
      "\n",
      "    accuracy                           0.74     17673\n",
      "   macro avg       0.74      0.74      0.74     17673\n",
      "weighted avg       0.74      0.74      0.74     17673\n"
     ]
    }
   ],
   "source": [
    "print(classification_report(y_test,pre_x))"
   ]
  },
  {
   "cell_type": "code",
   "execution_count": 16,
   "metadata": {
    "id": "fpOuWV8dH9x1",
    "outputId": "cd800790-214c-46f6-9cd0-b3c6b435d134",
    "colab": {
     "base_uri": "https://localhost:8080/"
    },
    "ExecuteTime": {
     "end_time": "2023-09-18T10:30:13.388428400Z",
     "start_time": "2023-09-18T10:30:13.325529Z"
    }
   },
   "outputs": [
    {
     "name": "stdout",
     "output_type": "stream",
     "text": [
      "[[7065 1806]\n",
      " [2840 5962]]\n"
     ]
    }
   ],
   "source": [
    "import itertools\n",
    "def plot_confusion_matrix(cm, classes,\n",
    "                          normalize=False,\n",
    "                          title='Confusion matrix',\n",
    "                          cmap=plt.cm.Blues):\n",
    "    \"\"\"\n",
    "    This function prints and plots the confusion matrix.\n",
    "    Normalization can be applied by setting `normalize=True`.\n",
    "    \"\"\"\n",
    "    if normalize:\n",
    "        cm = cm.astype('float') / cm.sum(axis=1)[:, np.newaxis]\n",
    "        print(\"Normalized confusion matrix\")\n",
    "    else:\n",
    "        print('Confusion matrix, without normalization')\n",
    "\n",
    "    print(cm)\n",
    "\n",
    "    plt.imshow(cm, interpolation='nearest', cmap=cmap)\n",
    "    plt.title(title)\n",
    "    plt.colorbar()\n",
    "    tick_marks = np.arange(len(classes))\n",
    "    plt.xticks(tick_marks, classes, rotation=45)\n",
    "    plt.yticks(tick_marks, classes)\n",
    "\n",
    "    fmt = '.2f' if normalize else 'd'\n",
    "    thresh = cm.max() / 2.\n",
    "    for i, j in itertools.product(range(cm.shape[0]), range(cm.shape[1])):\n",
    "        plt.text(j, i, format(cm[i, j], fmt),\n",
    "                 horizontalalignment=\"center\",\n",
    "                 color=\"white\" if cm[i, j] > thresh else \"black\")\n",
    "\n",
    "    plt.tight_layout()\n",
    "    plt.ylabel('True label')\n",
    "    plt.xlabel('Predicted label')\n",
    "print(confusion_matrix(y_test, pre_x, labels=[1,0]))"
   ]
  },
  {
   "cell_type": "code",
   "execution_count": 17,
   "metadata": {
    "id": "PKiqXIjQH9x2",
    "outputId": "86f57992-2915-4851-bf0b-415a54509a6b",
    "colab": {
     "base_uri": "https://localhost:8080/",
     "height": 560
    },
    "ExecuteTime": {
     "end_time": "2023-09-18T10:30:13.610250800Z",
     "start_time": "2023-09-18T10:30:13.356777300Z"
    }
   },
   "outputs": [
    {
     "name": "stdout",
     "output_type": "stream",
     "text": [
      "Confusion matrix, without normalization\n",
      "[[7065 1806]\n",
      " [2840 5962]]\n"
     ]
    },
    {
     "data": {
      "text/plain": "<Figure size 432x288 with 2 Axes>",
      "image/png": "[encoded data removed]"
     },
     "metadata": {
      "needs_background": "light"
     },
     "output_type": "display_data"
    }
   ],
   "source": [
    "# Compute confusion matrix\n",
    "cnf_matrix = confusion_matrix(y_test, pre_x, labels=[1,0])\n",
    "np.set_printoptions(precision=2)\n",
    "\n",
    "\n",
    "# Plot non-normalized confusion matrix\n",
    "plt.figure()\n",
    "plot_confusion_matrix(cnf_matrix, classes=['churn=1','churn=0'],normalize= False,  title='Confusion matrix')"
   ]
  },
  {
   "cell_type": "code",
   "execution_count": 18,
   "metadata": {
    "id": "1TI_CS59H9x2",
    "ExecuteTime": {
     "end_time": "2023-09-18T10:30:13.610250800Z",
     "start_time": "2023-09-18T10:30:13.562948Z"
    }
   },
   "outputs": [],
   "source": [
    "import pickle\n",
    "\n",
    "# Assuming your trained model is stored in a variable named 'model'\n",
    "with open('model.pkl', 'wb') as model_file:\n",
    "    pickle.dump(best_model, model_file)"
   ]
  },
  {
   "cell_type": "code",
   "source": [
    "import sklearn\n",
    "print(sklearn.__version__)\n"
   ],
   "metadata": {
    "colab": {
     "base_uri": "https://localhost:8080/"
    },
    "id": "QxUpQfAoH5lL",
    "outputId": "477a2def-6815-4754-d78e-b7c9dc01ed1a",
    "ExecuteTime": {
     "end_time": "2023-09-18T10:30:13.610250800Z",
     "start_time": "2023-09-18T10:30:13.581579Z"
    }
   },
   "execution_count": 19,
   "outputs": [
    {
     "name": "stdout",
     "output_type": "stream",
     "text": [
      "1.1.1\n"
     ]
    }
   ]
  },
  {
   "cell_type": "code",
   "source": [
    "# save the model as .sav file\n",
    "import joblib\n",
    "joblib.dump(best_model, 'model.sav')\n"
   ],
   "metadata": {
    "id": "PaNi6zZVH6B3",
    "ExecuteTime": {
     "end_time": "2023-09-18T10:30:13.610250800Z",
     "start_time": "2023-09-18T10:30:13.594599300Z"
    }
   },
   "execution_count": 20,
   "outputs": [
    {
     "data": {
      "text/plain": "['model.sav']"
     },
     "execution_count": 20,
     "metadata": {},
     "output_type": "execute_result"
    }
   ]
  }
 ],
 "metadata": {
  "kernelspec": {
   "name": "python3",
   "language": "python",
   "display_name": "Python 3 (ipykernel)"
  },
  "language_info": {
   "codemirror_mode": {
    "name": "ipython",
    "version": 3
   },
   "file_extension": ".py",
   "mimetype": "text/x-python",
   "name": "python",
   "nbconvert_exporter": "python",
   "pygments_lexer": "ipython3",
   "version": "3.10.1"
  },
  "orig_nbformat": 4,
  "colab": {
   "provenance": []
  }
 },
 "nbformat": 4,
 "nbformat_minor": 0
}
